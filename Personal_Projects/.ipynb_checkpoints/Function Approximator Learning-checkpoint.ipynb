{
 "cells": [
  {
   "cell_type": "markdown",
   "id": "1823bb02-cb23-428b-a532-6dbace671ece",
   "metadata": {},
   "source": [
    "### Neural Nets from Scratch"
   ]
  },
  {
   "cell_type": "code",
   "execution_count": 5,
   "id": "c14b2150-2a5f-4ee7-9866-5b8572a5caaa",
   "metadata": {},
   "outputs": [],
   "source": [
    "import numpy as np\n",
    "import matplotlib.pyplot as plt\n",
    "\n",
    "np.random.seed(42)"
   ]
  },
  {
   "cell_type": "markdown",
   "id": "d35db3f4-88dd-4718-b425-d3448da50a62",
   "metadata": {},
   "source": [
    "### Utils"
   ]
  },
  {
   "cell_type": "code",
   "execution_count": 6,
   "id": "b01e8a85-37eb-4cae-b991-989d4fbaa369",
   "metadata": {},
   "outputs": [],
   "source": [
    "def sigma(x):\n",
    "    return 1/(1+np.exp(-x))\n",
    "\n",
    "def sigma_prime(x):\n",
    "    return (sigma(x)*(1-sigma(x)))\n",
    "\n",
    "def error():\n",
    "    pass"
   ]
  },
  {
   "cell_type": "code",
   "execution_count": 8,
   "id": "eda7e4f1-44dc-47b2-a406-77f9338bfe8c",
   "metadata": {},
   "outputs": [],
   "source": [
    "a = np.random.rand(3, 4)"
   ]
  },
  {
   "cell_type": "code",
   "execution_count": 12,
   "id": "064304a1-cb9f-4928-a7af-7660c9e301d5",
   "metadata": {},
   "outputs": [
    {
     "data": {
      "text/plain": [
       "array([[0.83244264, 0.21233911, 0.18182497, 0.18340451],\n",
       "       [0.30424224, 0.52475643, 0.43194502, 0.29122914],\n",
       "       [0.61185289, 0.13949386, 0.29214465, 0.36636184]])"
      ]
     },
     "execution_count": 12,
     "metadata": {},
     "output_type": "execute_result"
    }
   ],
   "source": [
    "a"
   ]
  },
  {
   "cell_type": "code",
   "execution_count": 15,
   "id": "771885af-d180-4234-b1ff-15b6e147932a",
   "metadata": {},
   "outputs": [
    {
     "data": {
      "text/plain": [
       "array([[0.21124174, 0.24720305, 0.24794506, 0.2479094 ],\n",
       "       [0.24430288, 0.23354955, 0.23869222, 0.24477314],\n",
       "       [0.22798831, 0.24878777, 0.24474069, 0.24179534]])"
      ]
     },
     "execution_count": 15,
     "metadata": {},
     "output_type": "execute_result"
    }
   ],
   "source": [
    "sigma_prime(a)"
   ]
  },
  {
   "cell_type": "markdown",
   "id": "d5897622-4378-4cec-bb45-e587802e7dce",
   "metadata": {},
   "source": [
    "### Network Class"
   ]
  },
  {
   "cell_type": "code",
   "execution_count": 84,
   "id": "17fd82f1-f8b8-4ab3-beb8-a1ec2163f584",
   "metadata": {},
   "outputs": [],
   "source": [
    "class Network:\n",
    "\n",
    "    def __init__(self, num_layers, layer_sizes, learning_rate = 0.05):\n",
    "        self.num_layers = num_layers\n",
    "        self.layer_sizes = layer_sizes\n",
    "        self.input_size = layer_sizes[-1]\n",
    "        self.weight_matrices = []\n",
    "        self.bias_vectors = []\n",
    "        self.weight_matrices = [np.random.rand(layer_sizes[i+1], layer_sizes[i]) for i in range(num_layers-1)] \n",
    "        self.bias_vectors = [np.random.rand(layer_sizes[i+1], 1) for i in range(num_layers-1)]\n",
    "        self.layer_inputs = [np.zeros((layer_sizes[i+1], 1))for i in range(num_layers-1)]\n",
    "        self.layer_activations = [sigma(self.layer_inputs[i]) for i in range(num_layers-1)]\n",
    "\n",
    "        self.errors = [np.zeros((layer_sizes[i+1], 1))for i in range(num_layers-1)]\n",
    "\n",
    "\n",
    "    def forward_pass(self, x):\n",
    "        x = np.array(x).reshape(-1,1)\n",
    "        if x.shape[0] != self.layer_sizes[0]:\n",
    "            raise ValueError(f\"Input array shape {x.shape} does not match network input size {self.layer_sizes[0]}\")\n",
    "\n",
    "        a = x\n",
    "        i=0\n",
    "        for w, b in zip(self.weight_matrices, self.bias_vectors):\n",
    "            z = np.dot(w, a) + b\n",
    "            a = sigma(z)\n",
    "            self.layer_inputs[i] = z\n",
    "            self.layer_activations[i] = a\n",
    "            i+=1\n",
    "\n",
    "        self.errors[-1] = (-1/self.layer_activations[-1])*sigma_prime(self.layer_inputs[-1])\n",
    "        return a[0][0]\n",
    "\n",
    "    def backward_pass(self):\n",
    "        for i in range(-2, -self.num_layers,-1):\n",
    "            self.errors[i] = np.dot(self.weight_matrices[i+1].T, self.errors[i+1]) * sigma_prime(self.layer_inputs)\n",
    "        pass\n",
    "        # return grad_weights, grad_bias\n",
    "\n",
    "    def fit(self):\n",
    "        pass\n",
    "\n",
    "    def predict(self):\n",
    "        pass\n",
    "\n",
    "    def display_params(self):\n",
    "        print(\"Network Architechture: \", self.layer_sizes)\n",
    "        for i in range(self.num_layers-1):\n",
    "            print(\"Weight matrix of Layer \", i,\" has shape:\", self.weight_matrices[i].shape)\n",
    "            print(self.weight_matrices[i])\n",
    "            print(\"Bias of Layer \", i)\n",
    "            print(self.bias_vectors[i])\n",
    "\n",
    "    \n",
    "\n",
    "    def display_activations(self):\n",
    "        print(\"Network Architechture: \", self.layer_sizes)\n",
    "        for i in range(self.num_layers-1):\n",
    "            print(\"Activations of Layer \", i)\n",
    "            print(self.layer_activations[i])\n",
    "\n",
    "            \n",
    "\n",
    "    \n",
    "    "
   ]
  },
  {
   "cell_type": "code",
   "execution_count": 85,
   "id": "15c06cd9-6257-4a48-9f6e-30380fd30f3e",
   "metadata": {},
   "outputs": [],
   "source": [
    "model = Network(num_layers=3, layer_sizes = (2, 4, 1))"
   ]
  },
  {
   "cell_type": "code",
   "execution_count": 86,
   "id": "360bb24c-e3c3-4dd2-a552-ea4d4ca377d9",
   "metadata": {},
   "outputs": [
    {
     "name": "stdout",
     "output_type": "stream",
     "text": [
      "Network Architechture:  (2, 4, 1)\n",
      "Weight matrix of Layer  0  has shape: (4, 2)\n",
      "[[0.96264841 0.83598012]\n",
      " [0.69597421 0.40895294]\n",
      " [0.17329432 0.15643704]\n",
      " [0.2502429  0.54922666]]\n",
      "Bias of Layer  0\n",
      "[[0.73789692]\n",
      " [0.55435405]\n",
      " [0.61172075]\n",
      " [0.41960006]]\n",
      "Weight matrix of Layer  1  has shape: (1, 4)\n",
      "[[0.71459592 0.66019738 0.2799339  0.95486528]]\n",
      "Bias of Layer  1\n",
      "[[0.24773099]]\n"
     ]
    }
   ],
   "source": [
    "model.display_params()"
   ]
  },
  {
   "cell_type": "code",
   "execution_count": 87,
   "id": "7daecf90-075c-40dd-ada1-8504396cd92c",
   "metadata": {},
   "outputs": [
    {
     "data": {
      "text/plain": [
       "0.92759614154796"
      ]
     },
     "execution_count": 87,
     "metadata": {},
     "output_type": "execute_result"
    }
   ],
   "source": [
    "model.forward_pass([1,2])"
   ]
  },
  {
   "cell_type": "code",
   "execution_count": 88,
   "id": "353189e6-160c-444a-ae30-dbb6e28b11ae",
   "metadata": {},
   "outputs": [
    {
     "data": {
      "text/plain": [
       "[array([[0.96683413],\n",
       "        [0.88777715],\n",
       "        [0.74986439],\n",
       "        [0.85424567]]),\n",
       " array([[0.92759614]])]"
      ]
     },
     "execution_count": 88,
     "metadata": {},
     "output_type": "execute_result"
    }
   ],
   "source": [
    "model.layer_activations"
   ]
  },
  {
   "cell_type": "code",
   "execution_count": 89,
   "id": "d3118e00-ae2d-4fc4-a244-47b40069bc1b",
   "metadata": {},
   "outputs": [
    {
     "data": {
      "text/plain": [
       "[array([[3.37250557],\n",
       "        [2.06823415],\n",
       "        [1.09788915],\n",
       "        [1.76829629]]),\n",
       " array([[2.55033685]])]"
      ]
     },
     "execution_count": 89,
     "metadata": {},
     "output_type": "execute_result"
    }
   ],
   "source": [
    "model.layer_inputs"
   ]
  },
  {
   "cell_type": "code",
   "execution_count": 90,
   "id": "129d19b5-e679-43fc-8c11-9cbc0a3aed51",
   "metadata": {},
   "outputs": [
    {
     "data": {
      "text/plain": [
       "[array([[0.],\n",
       "        [0.],\n",
       "        [0.],\n",
       "        [0.]]),\n",
       " array([[-0.07240386]])]"
      ]
     },
     "execution_count": 90,
     "metadata": {},
     "output_type": "execute_result"
    }
   ],
   "source": [
    "model.errors"
   ]
  },
  {
   "cell_type": "markdown",
   "id": "a1099ce9-bcfc-4b6d-9eac-28da46d5d899",
   "metadata": {},
   "source": [
    "### Visualising Manufactured data"
   ]
  },
  {
   "cell_type": "code",
   "execution_count": 31,
   "id": "52c67718-a26d-4bab-a43a-a15d0d329dd3",
   "metadata": {},
   "outputs": [],
   "source": [
    "def generate_data():\n",
    "    x = np.linspace(0, 50, 4000)\n",
    "    y = 0.2 + 0.4*(x**2) + 0.3* np.sin(15*x) + 0.05*np.cos(50*x)\n",
    "\n",
    "    plt.figure(figsize=(8, 6))\n",
    "    plt.plot(x, y, label='Classifier Line', color='blue')\n",
    "\n",
    "    # if show_plot:        \n",
    "    #     plot(data, labels, weights = orig_weights, bias = orig_bias)\n",
    "    \n",
    "    \n",
    "    return x, y"
   ]
  },
  {
   "cell_type": "code",
   "execution_count": 32,
   "id": "6b0646f3-b100-419a-82fd-e27e203211bc",
   "metadata": {},
   "outputs": [
    {
     "data": {
      "image/png": "[encoded data removed]",
      "text/plain": [
       "<Figure size 800x600 with 1 Axes>"
      ]
     },
     "metadata": {},
     "output_type": "display_data"
    }
   ],
   "source": [
    "x, y = generate_data()"
   ]
  },
  {
   "cell_type": "code",
   "execution_count": 2,
   "id": "12c18ef7-c5c6-4f88-bd81-033c253b9940",
   "metadata": {},
   "outputs": [
    {
     "name": "stdout",
     "output_type": "stream",
     "text": [
      "Downloading from https://www.kaggle.com/api/v1/datasets/download/hojjatk/mnist-dataset?dataset_version_number=1...\n"
     ]
    },
    {
     "name": "stderr",
     "output_type": "stream",
     "text": [
      "100%|█████████████████████████████████████████████████████████████████████████████| 22.0M/22.0M [00:05<00:00, 3.99MB/s]"
     ]
    },
    {
     "name": "stdout",
     "output_type": "stream",
     "text": [
      "Extracting files...\n"
     ]
    },
    {
     "name": "stderr",
     "output_type": "stream",
     "text": [
      "\n"
     ]
    },
    {
     "name": "stdout",
     "output_type": "stream",
     "text": [
      "Path to dataset files: C:\\Users\\260005143\\.cache\\kagglehub\\datasets\\hojjatk\\mnist-dataset\\versions\\1\n"
     ]
    }
   ],
   "source": [
    "import kagglehub\n",
    "\n",
    "# Download latest version\n",
    "path = kagglehub.dataset_download(\"hojjatk/mnist-dataset\")\n",
    "\n",
    "print(\"Path to dataset files:\", path)"
   ]
  },
  {
   "cell_type": "code",
   "execution_count": 1,
   "id": "c7385cab-6862-44fb-8835-c1409d7077c1",
   "metadata": {},
   "outputs": [],
   "source": [
    "from mlxtend.data import loadlocal_mnist\n",
    "import pandas as pd\n",
    "import os\n",
    "import random\n",
    "\n",
    "for dirname, _, filenames in os.walk('/kaggle/input'):\n",
    "    for filename in filenames:\n",
    "        print(os.path.join(dirname, filename))"
   ]
  },
  {
   "cell_type": "code",
   "execution_count": 2,
   "id": "c8bc6d1d-4cad-4b8e-af4f-84d5fee406db",
   "metadata": {},
   "outputs": [
    {
     "name": "stdout",
     "output_type": "stream",
     "text": [
      "Loading MNIST dataset...\n"
     ]
    },
    {
     "ename": "FileNotFoundError",
     "evalue": "[Errno 2] No such file or directory: '/kaggle/input/mnist-dataset/train-labels.idx1-ubyte'",
     "output_type": "error",
     "traceback": [
      "\u001b[1;31m---------------------------------------------------------------------------\u001b[0m",
      "\u001b[1;31mFileNotFoundError\u001b[0m                         Traceback (most recent call last)",
      "Cell \u001b[1;32mIn[2], line 50\u001b[0m\n\u001b[0;32m     48\u001b[0m \u001b[38;5;28mprint\u001b[39m(\u001b[38;5;124m'\u001b[39m\u001b[38;5;124mLoading MNIST dataset...\u001b[39m\u001b[38;5;124m'\u001b[39m)\n\u001b[0;32m     49\u001b[0m mnist_dataloader \u001b[38;5;241m=\u001b[39m MnistDataloader(training_images_filepath, training_labels_filepath, test_images_filepath, test_labels_filepath)\n\u001b[1;32m---> 50\u001b[0m (x_train, y_train), (x_test, y_test) \u001b[38;5;241m=\u001b[39m mnist_dataloader\u001b[38;5;241m.\u001b[39mload_data()\n\u001b[0;32m     51\u001b[0m \u001b[38;5;28mprint\u001b[39m(\u001b[38;5;124m'\u001b[39m\u001b[38;5;124mMNIST dataset loaded.\u001b[39m\u001b[38;5;124m'\u001b[39m)\n\u001b[0;32m     53\u001b[0m \u001b[38;5;66;03m# Show example images\u001b[39;00m\n",
      "Cell \u001b[1;32mIn[2], line 36\u001b[0m, in \u001b[0;36mMnistDataloader.load_data\u001b[1;34m(self)\u001b[0m\n\u001b[0;32m     35\u001b[0m \u001b[38;5;28;01mdef\u001b[39;00m \u001b[38;5;21mload_data\u001b[39m(\u001b[38;5;28mself\u001b[39m):\n\u001b[1;32m---> 36\u001b[0m     x_train, y_train \u001b[38;5;241m=\u001b[39m \u001b[38;5;28mself\u001b[39m\u001b[38;5;241m.\u001b[39mread_images_labels(\u001b[38;5;28mself\u001b[39m\u001b[38;5;241m.\u001b[39mtraining_images_filepath, \u001b[38;5;28mself\u001b[39m\u001b[38;5;241m.\u001b[39mtraining_labels_filepath)\n\u001b[0;32m     37\u001b[0m     x_test, y_test \u001b[38;5;241m=\u001b[39m \u001b[38;5;28mself\u001b[39m\u001b[38;5;241m.\u001b[39mread_images_labels(\u001b[38;5;28mself\u001b[39m\u001b[38;5;241m.\u001b[39mtest_images_filepath, \u001b[38;5;28mself\u001b[39m\u001b[38;5;241m.\u001b[39mtest_labels_filepath)\n\u001b[0;32m     38\u001b[0m     \u001b[38;5;28;01mreturn\u001b[39;00m (x_train, y_train),(x_test, y_test)\n",
      "Cell \u001b[1;32mIn[2], line 14\u001b[0m, in \u001b[0;36mMnistDataloader.read_images_labels\u001b[1;34m(self, images_filepath, labels_filepath)\u001b[0m\n\u001b[0;32m     12\u001b[0m \u001b[38;5;28;01mdef\u001b[39;00m \u001b[38;5;21mread_images_labels\u001b[39m(\u001b[38;5;28mself\u001b[39m, images_filepath, labels_filepath):        \n\u001b[0;32m     13\u001b[0m     labels \u001b[38;5;241m=\u001b[39m []\n\u001b[1;32m---> 14\u001b[0m     \u001b[38;5;28;01mwith\u001b[39;00m \u001b[38;5;28mopen\u001b[39m(labels_filepath, \u001b[38;5;124m'\u001b[39m\u001b[38;5;124mrb\u001b[39m\u001b[38;5;124m'\u001b[39m) \u001b[38;5;28;01mas\u001b[39;00m file:\n\u001b[0;32m     15\u001b[0m         magic, size \u001b[38;5;241m=\u001b[39m struct\u001b[38;5;241m.\u001b[39munpack(\u001b[38;5;124m\"\u001b[39m\u001b[38;5;124m>II\u001b[39m\u001b[38;5;124m\"\u001b[39m, file\u001b[38;5;241m.\u001b[39mread(\u001b[38;5;241m8\u001b[39m))\n\u001b[0;32m     16\u001b[0m         \u001b[38;5;28;01mif\u001b[39;00m magic \u001b[38;5;241m!=\u001b[39m \u001b[38;5;241m2049\u001b[39m:\n",
      "File \u001b[1;32m~\\AppData\\Local\\anaconda3\\Lib\\site-packages\\IPython\\core\\interactiveshell.py:324\u001b[0m, in \u001b[0;36m_modified_open\u001b[1;34m(file, *args, **kwargs)\u001b[0m\n\u001b[0;32m    317\u001b[0m \u001b[38;5;28;01mif\u001b[39;00m file \u001b[38;5;129;01min\u001b[39;00m {\u001b[38;5;241m0\u001b[39m, \u001b[38;5;241m1\u001b[39m, \u001b[38;5;241m2\u001b[39m}:\n\u001b[0;32m    318\u001b[0m     \u001b[38;5;28;01mraise\u001b[39;00m \u001b[38;5;167;01mValueError\u001b[39;00m(\n\u001b[0;32m    319\u001b[0m         \u001b[38;5;124mf\u001b[39m\u001b[38;5;124m\"\u001b[39m\u001b[38;5;124mIPython won\u001b[39m\u001b[38;5;124m'\u001b[39m\u001b[38;5;124mt let you open fd=\u001b[39m\u001b[38;5;132;01m{\u001b[39;00mfile\u001b[38;5;132;01m}\u001b[39;00m\u001b[38;5;124m by default \u001b[39m\u001b[38;5;124m\"\u001b[39m\n\u001b[0;32m    320\u001b[0m         \u001b[38;5;124m\"\u001b[39m\u001b[38;5;124mas it is likely to crash IPython. If you know what you are doing, \u001b[39m\u001b[38;5;124m\"\u001b[39m\n\u001b[0;32m    321\u001b[0m         \u001b[38;5;124m\"\u001b[39m\u001b[38;5;124myou can use builtins\u001b[39m\u001b[38;5;124m'\u001b[39m\u001b[38;5;124m open.\u001b[39m\u001b[38;5;124m\"\u001b[39m\n\u001b[0;32m    322\u001b[0m     )\n\u001b[1;32m--> 324\u001b[0m \u001b[38;5;28;01mreturn\u001b[39;00m io_open(file, \u001b[38;5;241m*\u001b[39margs, \u001b[38;5;241m*\u001b[39m\u001b[38;5;241m*\u001b[39mkwargs)\n",
      "\u001b[1;31mFileNotFoundError\u001b[0m: [Errno 2] No such file or directory: '/kaggle/input/mnist-dataset/train-labels.idx1-ubyte'"
     ]
    }
   ],
   "source": [
    "from os.path  import join\n",
    "import struct\n",
    "from array import array\n",
    "class MnistDataloader(object):\n",
    "    def __init__(self, training_images_filepath,training_labels_filepath,\n",
    "                 test_images_filepath, test_labels_filepath):\n",
    "        self.training_images_filepath = training_images_filepath\n",
    "        self.training_labels_filepath = training_labels_filepath\n",
    "        self.test_images_filepath = test_images_filepath\n",
    "        self.test_labels_filepath = test_labels_filepath\n",
    "    \n",
    "    def read_images_labels(self, images_filepath, labels_filepath):        \n",
    "        labels = []\n",
    "        with open(labels_filepath, 'rb') as file:\n",
    "            magic, size = struct.unpack(\">II\", file.read(8))\n",
    "            if magic != 2049:\n",
    "                raise ValueError('Magic number mismatch, expected 2049, got {}'.format(magic))\n",
    "            labels = array(\"B\", file.read())        \n",
    "        \n",
    "        with open(images_filepath, 'rb') as file:\n",
    "            magic, size, rows, cols = struct.unpack(\">IIII\", file.read(16))\n",
    "            if magic != 2051:\n",
    "                raise ValueError('Magic number mismatch, expected 2051, got {}'.format(magic))\n",
    "            image_data = array(\"B\", file.read())        \n",
    "        images = []\n",
    "        for i in range(size):\n",
    "            images.append([0] * rows * cols)\n",
    "        for i in range(size):\n",
    "            img = np.array(image_data[i * rows * cols:(i + 1) * rows * cols])\n",
    "            img = img.reshape(28, 28)\n",
    "            images[i][:] = img            \n",
    "        \n",
    "        return images, labels\n",
    "            \n",
    "    def load_data(self):\n",
    "        x_train, y_train = self.read_images_labels(self.training_images_filepath, self.training_labels_filepath)\n",
    "        x_test, y_test = self.read_images_labels(self.test_images_filepath, self.test_labels_filepath)\n",
    "        return (x_train, y_train),(x_test, y_test)  \n",
    "\n",
    "# Set file paths based on added MNIST Datasets\n",
    "training_images_filepath = '/kaggle/input/mnist-dataset/train-images.idx3-ubyte'\n",
    "training_labels_filepath = '/kaggle/input/mnist-dataset/train-labels.idx1-ubyte'\n",
    "test_images_filepath = '/kaggle/input/mnist-dataset/t10k-images.idx3-ubyte'\n",
    "test_labels_filepath = '/kaggle/input/mnist-dataset/t10k-labels.idx1-ubyte'\n",
    "\n",
    "\n",
    "# Load MINST dataset\n",
    "print('Loading MNIST dataset...')\n",
    "mnist_dataloader = MnistDataloader(training_images_filepath, training_labels_filepath, test_images_filepath, test_labels_filepath)\n",
    "(x_train, y_train), (x_test, y_test) = mnist_dataloader.load_data()\n",
    "print('MNIST dataset loaded.')\n",
    "\n",
    "# Show example images\n",
    "def show_images(images, title_texts):\n",
    "    cols = 5\n",
    "    rows = int(len(images)/cols) + 1\n",
    "    plt.figure(figsize=(28, 28))\n",
    "    index = 1    \n",
    "    for x in zip(images, title_texts):        \n",
    "        image = x[0]        \n",
    "        title_text = x[1]\n",
    "        plt.subplot(rows, cols, index)        \n",
    "        plt.imshow(image, cmap=plt.cm.gray)\n",
    "        if (title_text != ''):\n",
    "            plt.title(title_text, fontsize = 15);        \n",
    "        index += 1\n",
    "\n",
    "random_images = []\n",
    "for i in range(0, 10):\n",
    "    r = random.randint(1, 60000)\n",
    "    random_images.append((x_train[r], 'training image [' + str(r) + '] = ' + str(y_train[r])))\n",
    "for i in range(0, 5):\n",
    "    r = random.randint(1, 10000)\n",
    "    random_images.append((x_test[r], 'test image [' + str(r) + '] = ' + str(y_test[r])))\n",
    "\n",
    "show_images(list(map(lambda x: x[0], random_images)), list(map(lambda x: x[1], random_images)))"
   ]
  },
  {
   "cell_type": "code",
   "execution_count": null,
   "id": "ed49416b-b91f-4e1d-95cf-3d2bf86dee28",
   "metadata": {},
   "outputs": [],
   "source": []
  }
 ],
 "metadata": {
  "kernelspec": {
   "display_name": "Python 3 (ipykernel)",
   "language": "python",
   "name": "python3"
  },
  "language_info": {
   "codemirror_mode": {
    "name": "ipython",
    "version": 3
   },
   "file_extension": ".py",
   "mimetype": "text/x-python",
   "name": "python",
   "nbconvert_exporter": "python",
   "pygments_lexer": "ipython3",
   "version": "3.12.7"
  }
 },
 "nbformat": 4,
 "nbformat_minor": 5
}
